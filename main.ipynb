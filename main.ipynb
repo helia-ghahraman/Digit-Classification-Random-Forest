{
 "cells": [
  {
   "cell_type": "markdown",
   "id": "f67b6c5d",
   "metadata": {},
   "source": [
    "# PHASE 2 - Digit Picture Classification Using Random Forest Algorithm\n",
    "---\n",
    "---\n",
    "---\n",
    "\n",
    "## 1. Imports"
   ]
  },
  {
   "cell_type": "code",
   "execution_count": 1,
   "id": "3b453bc3",
   "metadata": {},
   "outputs": [],
   "source": [
    "import numpy as np\n",
    "import pandas as pd\n",
    "from typing import Tuple\n",
    "import matplotlib.pyplot as plt\n",
    "from sklearn.metrics import accuracy_score\n",
    "from sklearn.metrics import confusion_matrix\n",
    "from sklearn.ensemble import RandomForestClassifier"
   ]
  },
  {
   "cell_type": "markdown",
   "id": "8786373f",
   "metadata": {},
   "source": [
    "---\n",
    "---\n",
    "## 2. Data Loading"
   ]
  },
  {
   "cell_type": "code",
   "execution_count": 2,
   "id": "4bfec61b",
   "metadata": {},
   "outputs": [
    {
     "name": "stdout",
     "output_type": "stream",
     "text": [
      "Train Shape: (25000, 1024)\n",
      "Train Domains: (array([0, 1, 2, 3, 4], dtype=int64), array([5000, 5000, 5000, 5000, 5000], dtype=int64))\n",
      "Train Digits: (array([0, 1, 2, 3, 4, 5, 6, 7, 8, 9], dtype=int64), array([2715, 3324, 2717, 2595, 2502, 2165, 2370, 2277, 2184, 2151],\n",
      "      dtype=int64))\n",
      "\n",
      "Test Shape: (25000, 1024)\n",
      "Test Domains: (array([0, 1, 2, 3, 4], dtype=int64), array([5000, 5000, 5000, 5000, 5000], dtype=int64))\n",
      "Test Digits: (array([0, 1, 2, 3, 4, 5, 6, 7, 8, 9], dtype=int64), array([2655, 3341, 2719, 2478, 2362, 2342, 2310, 2373, 2162, 2258],\n",
      "      dtype=int64))\n"
     ]
    }
   ],
   "source": [
    "features_path = 'E:\\\\University Semester\\\\6\\\\Foundation of Computational Intelligence\\\\Projects\\\\S3. Project Phase 2\\\\Features'\n",
    "def load_data(filename: str) -> Tuple[np.ndarray, np.ndarray, np.ndarray]:\n",
    "    data = np.load(f'{filename}')\n",
    "    return data['features'], data['domains'], data['digits']\n",
    "\n",
    "features_train, domains_train, digits_train = load_data(features_path + '\\\\train_data.npz')\n",
    "print(\"Train Shape:\", features_train.shape)\n",
    "print(\"Train Domains:\", np.unique(domains_train, return_counts=True))\n",
    "print(\"Train Digits:\", np.unique(digits_train, return_counts=True))\n",
    "\n",
    "print()\n",
    "\n",
    "features_test, domains_test, digits_test = load_data(features_path + '\\\\test_data.npz')\n",
    "print(\"Test Shape:\", features_test.shape)\n",
    "print(\"Test Domains:\", np.unique(domains_test, return_counts=True))\n",
    "print(\"Test Digits:\", np.unique(digits_test, return_counts=True))"
   ]
  },
  {
   "cell_type": "markdown",
   "id": "30cee4c0",
   "metadata": {},
   "source": [
    "---\n",
    "---\n",
    "## 3. Finding Best Random Forest Classification"
   ]
  },
  {
   "cell_type": "markdown",
   "id": "4f22b8c3",
   "metadata": {},
   "source": [
    "### This function will plot the relationship between accuracy and max depth of trees in RFC.\n",
    "### We can test and plot more diagrams to find best hyper parameters like (n_estimators and so on) but it works fine right now!"
   ]
  },
  {
   "cell_type": "code",
   "execution_count": 3,
   "id": "6534b010",
   "metadata": {},
   "outputs": [],
   "source": [
    "def best_rfc(train_data, train_label, test_data, test_label):\n",
    "    train_accuracy = []\n",
    "    test_accuracy = []\n",
    "    for depth in range(4, 25, 4):\n",
    "        rfc = RandomForestClassifier(max_depth=depth, random_state=0)\n",
    "        rfc.fit(train_data, train_label)\n",
    "        train_predict = rfc.predict(train_data)\n",
    "        test_predict = rfc.predict(test_data)\n",
    "        train_accuracy.append(accuracy_score(train_predict, train_label))\n",
    "        test_accuracy.append(accuracy_score(test_predict, test_label))\n",
    "    plt.plot(range(4, 25, 4), train_accuracy, label=\"Train\")\n",
    "    plt.plot(range(4, 25, 4), test_accuracy, label=\"Test\")\n",
    "    plt.legend()\n",
    "    plt.xlabel('Max Depth')\n",
    "    plt.ylabel('Accuracy')"
   ]
  },
  {
   "cell_type": "markdown",
   "id": "89104a93",
   "metadata": {},
   "source": [
    "---\n",
    "---\n",
    "## 4. Digit Classification"
   ]
  },
  {
   "cell_type": "markdown",
   "id": "82fb8d75",
   "metadata": {},
   "source": [
    "### Finding best RFC for digit classification, As we see after max_depth=12 there is no much improvement with increasing depth, so we choose 12."
   ]
  },
  {
   "cell_type": "code",
   "execution_count": 4,
   "id": "6d8b92f1",
   "metadata": {},
   "outputs": [
    {
     "data": {
      "image/png": "[encoded data removed]",
      "text/plain": [
       "<Figure size 432x288 with 1 Axes>"
      ]
     },
     "metadata": {
      "needs_background": "light"
     },
     "output_type": "display_data"
    }
   ],
   "source": [
    "best_rfc(features_train, digits_train, features_test, digits_test)"
   ]
  },
  {
   "cell_type": "markdown",
   "id": "602f0bb9",
   "metadata": {},
   "source": [
    "### RFC with max_depth = 12, accuracy score and confusion matrix."
   ]
  },
  {
   "cell_type": "code",
   "execution_count": 5,
   "id": "c4f6f66e",
   "metadata": {},
   "outputs": [
    {
     "name": "stdout",
     "output_type": "stream",
     "text": [
      "Accuracy Score: 0.8516\n",
      "Confusion Matrix, Vertical numbers are true labels and horizontal ones are predicted labels.\n",
      "      0     1     2     3     4     5     6     7     8     9\n",
      "0  2311     5     9     9     6     7    40     5    26    53\n",
      "1   146  3109    86    87   147    37    96   157   115    59\n",
      "2    75    74  2518    90    47    38    39    86    98   118\n",
      "3    32    26    33  2114    15   144    33    18   165    93\n",
      "4    20    45    28    25  2071    31    49    18    35   122\n",
      "5    12     9     5    75     4  2009   137    10    65    42\n",
      "6    20     2    10     7    17    37  1859     2    48     6\n",
      "7     9    57    18    17    14    11     2  2039     9    51\n",
      "8    23    11     7    45     7    19    51     9  1586    40\n",
      "9     7     3     5     9    34     9     4    29    15  1674\n"
     ]
    }
   ],
   "source": [
    "digit_rfc = RandomForestClassifier(n_estimators=130, max_depth=12)\n",
    "digit_rfc.fit(features_train, digits_train)\n",
    "digit_test_predict = digit_rfc.predict(features_test)\n",
    "digit_classification_accuracy = accuracy_score(digit_test_predict, digits_test)\n",
    "digit_classification_confusion_matrix = confusion_matrix(digit_test_predict, digits_test)\n",
    "print(\"Accuracy Score:\", digit_classification_accuracy)\n",
    "print(\"Confusion Matrix, Vertical numbers are true labels and horizontal ones are predicted labels.\")\n",
    "print(pd.DataFrame(digit_classification_confusion_matrix))"
   ]
  },
  {
   "cell_type": "markdown",
   "id": "ebf461e1",
   "metadata": {},
   "source": [
    "---\n",
    "---\n",
    "## 5. Domain Classification"
   ]
  },
  {
   "cell_type": "markdown",
   "id": "4bcec561",
   "metadata": {},
   "source": [
    "### Finding best RFC for domain classification, As we see after max_depth=8 there is no much improvement with increasing depth, so we choose 8."
   ]
  },
  {
   "cell_type": "code",
   "execution_count": 6,
   "id": "cf6e2826",
   "metadata": {},
   "outputs": [
    {
     "data": {
      "image/png": "[encoded data removed]",
      "text/plain": [
       "<Figure size 432x288 with 1 Axes>"
      ]
     },
     "metadata": {
      "needs_background": "light"
     },
     "output_type": "display_data"
    }
   ],
   "source": [
    "best_rfc(features_train, domains_train, features_test, domains_test)"
   ]
  },
  {
   "cell_type": "markdown",
   "id": "9249ecb2",
   "metadata": {},
   "source": [
    "### RFC with max_depth = 8, accuracy score and confusion matrix."
   ]
  },
  {
   "cell_type": "code",
   "execution_count": 7,
   "id": "bb3f84ee",
   "metadata": {},
   "outputs": [
    {
     "name": "stdout",
     "output_type": "stream",
     "text": [
      "Accuracy Score: 0.8998\n",
      "Confusion Matrix, Vertical numbers are true labels and horizontal ones are predicted labels.\n",
      "      0     1     2     3     4\n",
      "0  4993    69     0    95    12\n",
      "1     3  4528   112   773     1\n",
      "2     0   351  4839   790     0\n",
      "3     2    51    48  3149     1\n",
      "4     2     1     1   193  4986\n"
     ]
    }
   ],
   "source": [
    "domain_rfc = RandomForestClassifier(max_depth=8)\n",
    "domain_rfc.fit(features_train, domains_train)\n",
    "domain_train_predict = domain_rfc.predict(features_train)\n",
    "domain_test_predict = domain_rfc.predict(features_test)\n",
    "domain_classification_accuracy = accuracy_score(domain_test_predict, domains_test)\n",
    "digit_classification_confusion_matrix = confusion_matrix(domain_test_predict, domains_test)\n",
    "print(\"Accuracy Score:\", domain_classification_accuracy)\n",
    "print(\"Confusion Matrix, Vertical numbers are true labels and horizontal ones are predicted labels.\")\n",
    "print(pd.DataFrame(digit_classification_confusion_matrix))"
   ]
  },
  {
   "cell_type": "markdown",
   "id": "c97f015c",
   "metadata": {},
   "source": [
    "---\n",
    "---\n",
    "## 6. Domain Specific Classification"
   ]
  },
  {
   "cell_type": "markdown",
   "id": "55ff5f80",
   "metadata": {},
   "source": [
    "### Splitting data by predicted domain using RFC trained by domains."
   ]
  },
  {
   "cell_type": "code",
   "execution_count": 8,
   "id": "806bbd12",
   "metadata": {},
   "outputs": [],
   "source": [
    "train_data_separate_by_domains = [[], [], [], [], []]\n",
    "train_digits_separate_by_domains = [[], [], [], [], []]\n",
    "test_data_separate_by_domains = [[], [], [], [], []]\n",
    "test_digits_separate_by_domains = [[], [], [], [], []]\n",
    "\n",
    "for index in range(len(features_train)):\n",
    "    train_data_separate_by_domains[domain_train_predict[index]].append(features_train[index])\n",
    "    train_digits_separate_by_domains[domain_train_predict[index]].append(digits_train[index])\n",
    "    \n",
    "for index in range(len(features_test)):\n",
    "    test_data_separate_by_domains[domain_test_predict[index]].append(features_test[index])\n",
    "    test_digits_separate_by_domains[domain_test_predict[index]].append(digits_test[index])"
   ]
  },
  {
   "cell_type": "markdown",
   "id": "595a9270",
   "metadata": {},
   "source": [
    "### We can find best RFC specific for domains but it works fine already!"
   ]
  },
  {
   "cell_type": "code",
   "execution_count": 9,
   "id": "21759b3c",
   "metadata": {},
   "outputs": [],
   "source": [
    "# best_rfc(train_data_separate_by_domains[0], train_digits_separate_by_domains[0], \n",
    "#          test_data_separate_by_domains[0], test_digits_separate_by_domains[0])\n",
    "# best_rfc(train_data_separate_by_domains[1], train_digits_separate_by_domains[1], \n",
    "#          test_data_separate_by_domains[1], test_digits_separate_by_domains[1])\n",
    "# best_rfc(train_data_separate_by_domains[2], train_digits_separate_by_domains[2], \n",
    "#          test_data_separate_by_domains[2], test_digits_separate_by_domains[2])\n",
    "# best_rfc(train_data_separate_by_domains[3], train_digits_separate_by_domains[3], \n",
    "#          test_data_separate_by_domains[3], test_digits_separate_by_domains[3])\n",
    "# best_rfc(train_data_separate_by_domains[4], train_digits_separate_by_domains[4], \n",
    "#          test_data_separate_by_domains[4], test_digits_separate_by_domains[4])"
   ]
  },
  {
   "cell_type": "markdown",
   "id": "63bb11e9",
   "metadata": {},
   "source": [
    "### Domain specific RFC with max_depth = 8, accuracy_score."
   ]
  },
  {
   "cell_type": "code",
   "execution_count": 10,
   "id": "520a0298",
   "metadata": {},
   "outputs": [
    {
     "name": "stdout",
     "output_type": "stream",
     "text": [
      "Domain 0 with 5169 samples accuracy: 0.9603404913909848\n",
      "Domain 1 with 5417 samples accuracy: 0.7974893852685988\n",
      "Domain 2 with 5980 samples accuracy: 0.7066889632107023\n",
      "Domain 3 with 3251 samples accuracy: 0.8649646262688404\n",
      "Domain 4 with 5183 samples accuracy: 0.9679722168628208\n"
     ]
    }
   ],
   "source": [
    "domain_specific_rfcs = []\n",
    "domain_specific_test_predicts = []\n",
    "domain_specific_classification_accuracies = []\n",
    "domain_sample_counter = []\n",
    "\n",
    "for domain in test_data_separate_by_domains:\n",
    "    domain_sample_counter.append(len(domain))\n",
    "    \n",
    "for domain in range(5):\n",
    "    domain_specific_rfcs.append(RandomForestClassifier(n_estimators=130, max_depth=8))\n",
    "    domain_specific_rfcs[domain].fit(train_data_separate_by_domains[domain], train_digits_separate_by_domains[domain])\n",
    "    domain_specific_test_predicts.append(domain_specific_rfcs[domain].predict(test_data_separate_by_domains[domain]))\n",
    "    domain_specific_classification_accuracies.append(accuracy_score(domain_specific_test_predicts[domain], test_digits_separate_by_domains[domain]))\n",
    "    print(\"Domain\", domain, \"with\", domain_sample_counter[domain], \"samples accuracy:\" , domain_specific_classification_accuracies[domain])"
   ]
  },
  {
   "cell_type": "markdown",
   "id": "370b5ec7",
   "metadata": {},
   "source": [
    "---\n",
    "---\n",
    "## 7. Domain Specific Classification Using Other Domains Data "
   ]
  },
  {
   "cell_type": "markdown",
   "id": "75d7ebf6",
   "metadata": {},
   "source": [
    "### Due to confusion matrix 15% of second domain misclassified to forth domain, so we add part of forth domain for training."
   ]
  },
  {
   "cell_type": "code",
   "execution_count": 11,
   "id": "9a0a7e3d",
   "metadata": {},
   "outputs": [
    {
     "name": "stdout",
     "output_type": "stream",
     "text": [
      "Domain 1 new accuracy: 0.8218571164851394\n"
     ]
    }
   ],
   "source": [
    "domain_specific_rfcs[1] = RandomForestClassifier(n_estimators=130, max_depth=8)\n",
    "learn_data = train_data_separate_by_domains[1] + train_data_separate_by_domains[3][0:1500]\n",
    "learn_label = train_digits_separate_by_domains[1] + train_digits_separate_by_domains[3][0:1500]\n",
    "domain_specific_rfcs[1].fit(learn_data, learn_label)\n",
    "domain_specific_test_predicts[1] = domain_specific_rfcs[1].predict(test_data_separate_by_domains[1])\n",
    "domain_specific_classification_accuracies[1] = accuracy_score(domain_specific_test_predicts[1], test_digits_separate_by_domains[1])\n",
    "print(\"Domain 1 new accuracy:\", domain_specific_classification_accuracies[1])"
   ]
  },
  {
   "cell_type": "markdown",
   "id": "0e5cb793",
   "metadata": {},
   "source": [
    "### Due to confusion matrix 15% of third domain misclassified to forth domain, so we add part of forth domain for training."
   ]
  },
  {
   "cell_type": "code",
   "execution_count": 12,
   "id": "e1b07c1a",
   "metadata": {},
   "outputs": [
    {
     "name": "stdout",
     "output_type": "stream",
     "text": [
      "Domain 2 new accuracy: 0.7168896321070234\n"
     ]
    }
   ],
   "source": [
    "domain_specific_rfcs[2] = RandomForestClassifier(n_estimators=130, max_depth=8)\n",
    "learn_data = train_data_separate_by_domains[2] + train_data_separate_by_domains[3][0:1500]\n",
    "learn_label = train_digits_separate_by_domains[2] + train_digits_separate_by_domains[3][0:1500]\n",
    "domain_specific_rfcs[2].fit(learn_data, learn_label)\n",
    "domain_specific_test_predicts[2] = domain_specific_rfcs[2].predict(test_data_separate_by_domains[2])\n",
    "domain_specific_classification_accuracies[2] = accuracy_score(domain_specific_test_predicts[2], test_digits_separate_by_domains[2])\n",
    "print(\"Domain 2 new accuracy:\", domain_specific_classification_accuracies[2])"
   ]
  },
  {
   "cell_type": "markdown",
   "id": "297a2911",
   "metadata": {},
   "source": [
    "### As we see adding other domains data improved accuracy.\n",
    "---\n",
    "---\n",
    "## 8. Results"
   ]
  },
  {
   "cell_type": "code",
   "execution_count": 13,
   "id": "e434cf24",
   "metadata": {},
   "outputs": [
    {
     "name": "stdout",
     "output_type": "stream",
     "text": [
      "Simple Digit Classification Accuracy: 0.8516\n",
      "Simple Domain Classification Accuracy: 0.8998\n",
      "Average Domain Specific Classification Accuracy: 0.86128\n"
     ]
    }
   ],
   "source": [
    "print(\"Simple Digit Classification Accuracy:\", digit_classification_accuracy)\n",
    "print(\"Simple Domain Classification Accuracy:\", domain_classification_accuracy)\n",
    "print(\"Average Domain Specific Classification Accuracy:\", np.average(domain_specific_classification_accuracies, weights=domain_sample_counter))"
   ]
  }
 ],
 "metadata": {
  "kernelspec": {
   "display_name": "Python 3 (ipykernel)",
   "language": "python",
   "name": "python3"
  },
  "language_info": {
   "codemirror_mode": {
    "name": "ipython",
    "version": 3
   },
   "file_extension": ".py",
   "mimetype": "text/x-python",
   "name": "python",
   "nbconvert_exporter": "python",
   "pygments_lexer": "ipython3",
   "version": "3.9.6"
  }
 },
 "nbformat": 4,
 "nbformat_minor": 5
}
